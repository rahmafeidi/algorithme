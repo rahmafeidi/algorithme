{
 "cells": [
  {
   "cell_type": "code",
   "execution_count": 8,
   "metadata": {},
   "outputs": [],
   "source": [
    "from random import randint\n",
    "N = 8\n",
    "\n",
    "echiquier = [[0]*N for _ in range(N)]\n",
    "\n",
    "\n",
    "def placer_rene(ligne_queen, col_queen):\n",
    "        \n",
    "    for ligne in range(0,N):\n",
    "        if echiquier[ligne_queen][ligne]!=0 or echiquier[ligne][col_queen]!=0:\n",
    "            return False\n",
    "        \n",
    "    for ligne in range(0,N):\n",
    "        for col in range(0,N):\n",
    "            if (ligne+col==ligne_queen+col_queen) or (ligne-col==ligne_queen-col_queen):\n",
    "                if echiquier[ligne][col]!=0:\n",
    "                    return False\n",
    "    return True\n",
    "\n",
    "def placer_toutes_renes(N):\n",
    "        \n",
    "    if N==0:\n",
    "        return True\n",
    "    for i in range(0,N):\n",
    "        for j in range(0,N):\n",
    "                \n",
    "            if (placer_rene(i,j)) and (echiquier[i][j]!=1):\n",
    "                echiquier[i][j] = randint(2,100)\n",
    "                \n",
    "                if placer_toutes_renes(N-1)==True:\n",
    "                    return True\n",
    "                echiquier[i][j] = 0\n",
    "                    \n",
    "    return False\n",
    "        \n",
    "\n",
    "    \n"
   ]
  },
  {
   "cell_type": "code",
   "execution_count": null,
   "metadata": {},
   "outputs": [],
   "source": []
  },
  {
   "cell_type": "code",
   "execution_count": null,
   "metadata": {},
   "outputs": [],
   "source": []
  }
 ],
 "metadata": {
  "kernelspec": {
   "display_name": "Python 3",
   "language": "python",
   "name": "python3"
  },
  "language_info": {
   "codemirror_mode": {
    "name": "ipython",
    "version": 3
   },
   "file_extension": ".py",
   "mimetype": "text/x-python",
   "name": "python",
   "nbconvert_exporter": "python",
   "pygments_lexer": "ipython3",
   "version": "3.8.3"
  }
 },
 "nbformat": 4,
 "nbformat_minor": 4
}
